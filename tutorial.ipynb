{
 "cells": [
  {
   "cell_type": "code",
   "execution_count": null,
   "metadata": {},
   "outputs": [],
   "source": [
    "# import for zip\n",
    "import os, shutil"
   ]
  },
  {
   "cell_type": "code",
   "execution_count": null,
   "metadata": {},
   "outputs": [],
   "source": [
    "%cd data"
   ]
  },
  {
   "cell_type": "code",
   "execution_count": null,
   "metadata": {},
   "outputs": [],
   "source": [
    "content_list = [\"Nawatura.jpg\", \"Nawatura-1.jpg\", \"New_Kramawirya.jpg\", \"New_Kramawirya-1.jpg\"]\n",
    "style_list = [\"document-1.png\", \"document-2.png\", \"document-3.png\", \"document-4.png\", \"document-5_1.jpg\"]\n",
    "\n",
    "content_weight_list = [ 5e3, 1e4 ]\n",
    "style_weight_list = [ 3e4, 3e3, 3e1 ]\n",
    "tv_weight_list = [ 8e3, 8e1, 8e0, 8e-2 ]\n",
    "\n",
    "for content_weight in content_weight_list:\n",
    "    for style_weight in style_weight_list:\n",
    "        for tv_weight in tv_weight_list:\n",
    "            if not os.path.exists(f'output-images/exp_nst_content_{str(content_weight)}_style_{str(style_weight)}_tv_{str(tv_weight)}'):\n",
    "                !mkdir \"output-images/exp_nst_content_{str(content_weight)}_style_{str(style_weight)}_tv_{str(tv_weight)}\"\n",
    "            for content in content_list:\n",
    "                for style in style_list:\n",
    "                    !python ../neural_style_transfer.py --content_img_name {content} --style_img_name {style} --content_weight {content_weight} --style_weight {style_weight} --tv_weight {tv_weight} --saving_freq 100 --height 256\n",
    "\n",
    "            !python gen_html.py --content_dir content-images --style_dir style-images --output_dir output-images --content_list Nawatura.jpg New_Kramawirya.jpg Nawatura-1.jpg New_Kramawirya-1.jpg --style_list document-1.png document-2.png document-3.png document-4.png document-5_1.jpg --mode max --reports\n",
    "            shutil.move('index.html', f'output-images/exp_nst_content_{str(content_weight)}_style_{str(style_weight)}_tv_{str(tv_weight)}/index.html')\n",
    "\n",
    "            for content in content_list:\n",
    "                for style in style_list:\n",
    "                    # move the output images to exp_nst_content_{str(content_weight)}_style_{str(style_weight)}_tv_{str(tv_weight)} folder\n",
    "                    shutil.move(f'output-images/combined_{content.split(\".\")[0]}_{style.split(\".\")[0]}', f'output-images/exp_nst_content_{str(content_weight)}_style_{str(style_weight)}_tv_{str(tv_weight)}/combined_{content.split(\".\")[0]}_{style.split(\".\")[0]}')\n",
    "\n",
    "\n",
    "            # zip the content and style images with format combined_{content}_{style} into zip file with format exp_nst_content_{str(content_weight)}_style_{str(style_weight)}_tv_{str(tv_weight)}.zip\n",
    "            shutil.make_archive(f'output-images/exp_nst_content_{str(content_weight)}_style_{str(style_weight)}_tv_{str(tv_weight)}', 'zip', f'output-images/exp_nst_content_{str(content_weight)}_style_{str(style_weight)}_tv_{str(tv_weight)}')\n",
    "\n",
    "        "
   ]
  },
  {
   "cell_type": "code",
   "execution_count": null,
   "metadata": {},
   "outputs": [],
   "source": []
  }
 ],
 "metadata": {
  "kernelspec": {
   "display_name": "Python 3",
   "language": "python",
   "name": "python3"
  },
  "language_info": {
   "codemirror_mode": {
    "name": "ipython",
    "version": 3
   },
   "file_extension": ".py",
   "mimetype": "text/x-python",
   "name": "python",
   "nbconvert_exporter": "python",
   "pygments_lexer": "ipython3",
   "version": "3.8.19"
  }
 },
 "nbformat": 4,
 "nbformat_minor": 2
}
