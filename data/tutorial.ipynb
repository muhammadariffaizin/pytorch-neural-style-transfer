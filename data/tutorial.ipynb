{
 "cells": [
  {
   "cell_type": "code",
   "execution_count": null,
   "metadata": {},
   "outputs": [],
   "source": [
    "# !python gen_html.py --content_dir content-images --style_dir style-images --output_dir output-images --mode specific --iterations 1000\\n\n",
    "!python gen_html.py --content_dir content-images --style_dir style-images --output_dir output-images --content_list Nawatura.jpg New_Kramawirya.jpg Nawatura-1.jpg New_Kramawirya-1.jpg --style_list document-1.png document-2.png document-3.png document-4.png document-5_1.jpg --mode max --reports"
   ]
  }
 ],
 "metadata": {
  "language_info": {
   "name": "python"
  }
 },
 "nbformat": 4,
 "nbformat_minor": 2
}
